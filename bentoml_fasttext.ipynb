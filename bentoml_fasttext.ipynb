{
 "cells": [
  {
   "cell_type": "markdown",
   "source": [
    "**MLOps**\n",
    "\n",
    "**Usando BentoML para publicação de modelos em produção**\n",
    "\n",
    "Exemplo de uso do BentoML para publicação de modelos em produção.\n",
    "\n",
    "Link: https://colab.research.google.com/github/bentoml/gallery/blob/master/fasttext/text-classification/text-classification.ipynb#scrollTo=FIBXoXd-_dOw"
   ],
   "metadata": {
    "id": "rvPPHuKGd93y"
   }
  },
  {
   "cell_type": "code",
   "execution_count": 1,
   "source": [
    "%reload_ext autoreload\n",
    "%autoreload 2\n",
    "%matplotlib inline\n",
    "\n",
    "import warnings\n",
    "warnings.filterwarnings(\"ignore\")"
   ],
   "outputs": [],
   "metadata": {
    "id": "mMG6sEztd76e"
   }
  },
  {
   "cell_type": "code",
   "execution_count": 28,
   "source": [
    "# instalando fasttext by Facebook\n",
    "!pip install -q fasttext==0.9.2"
   ],
   "outputs": [],
   "metadata": {
    "id": "DnLmZXxKasi0"
   }
  },
  {
   "cell_type": "code",
   "execution_count": 4,
   "source": [
    "# instalando bentoml    \n",
    "!pip install -q bentoml \"fasttext==0.9.2\""
   ],
   "outputs": [],
   "metadata": {
    "id": "Mx2-AYnre0uJ"
   }
  },
  {
   "cell_type": "markdown",
   "source": [
    "## **Preparando os Dados**"
   ],
   "metadata": {
    "id": "1E-hivGHe_PA"
   }
  },
  {
   "cell_type": "code",
   "execution_count": 2,
   "source": [
    "# baixa o dataset\n",
    "!curl https://dl.fbaipublicfiles.com/fasttext/data/cooking.stackexchange.tar.gz --output cooking.stackexchange.tar.gz && tar xvzf cooking.stackexchange.tar.gz"
   ],
   "outputs": [
    {
     "output_type": "stream",
     "name": "stdout",
     "text": [
      "  % Total    % Received % Xferd  Average Speed   Time    Time     Time  Current\n",
      "                                 Dload  Upload   Total   Spent    Left  Speed\n",
      "100  446k  100  446k    0     0   199k      0  0:00:02  0:00:02 --:--:--  199k\n",
      "x cooking.stackexchange.id\n",
      "x cooking.stackexchange.txt\n",
      "x readme.txt\n"
     ]
    }
   ],
   "metadata": {
    "colab": {
     "base_uri": "https://localhost:8080/"
    },
    "id": "91DrDlyKfIo7",
    "outputId": "58417e76-f259-42f7-8d3b-1474ff51e13f"
   }
  },
  {
   "cell_type": "code",
   "execution_count": 6,
   "source": [
    "!head cooking.stackexchange.txt"
   ],
   "outputs": [
    {
     "output_type": "stream",
     "name": "stdout",
     "text": [
      "__label__sauce __label__cheese How much does potato starch affect a cheese sauce recipe?\r\n",
      "__label__food-safety __label__acidity Dangerous pathogens capable of growing in acidic environments\r\n",
      "__label__cast-iron __label__stove How do I cover up the white spots on my cast iron stove?\r\n",
      "__label__restaurant Michelin Three Star Restaurant; but if the chef is not there\r\n",
      "__label__knife-skills __label__dicing Without knife skills, how can I quickly and accurately dice vegetables?\r\n",
      "__label__storage-method __label__equipment __label__bread What's the purpose of a bread box?\r\n",
      "__label__baking __label__food-safety __label__substitutions __label__peanuts how to seperate peanut oil from roasted peanuts at home?\r\n",
      "__label__chocolate American equivalent for British chocolate terms\r\n",
      "__label__baking __label__oven __label__convection Fan bake vs bake\r\n",
      "__label__sauce __label__storage-lifetime __label__acidity __label__mayonnaise Regulation and balancing of readymade packed mayonnaise and other sauces\r\n"
     ]
    }
   ],
   "metadata": {
    "colab": {
     "base_uri": "https://localhost:8080/"
    },
    "id": "mAy53bu2goEu",
    "outputId": "9793c698-3db3-497d-c641-b569e96dea97"
   }
  },
  {
   "cell_type": "code",
   "execution_count": 3,
   "source": [
    "# Defining train and valitation datasets\n",
    "!head -n 12404 cooking.stackexchange.txt > cooking.train\n",
    "!head -n 3000 cooking.stackexchange.txt > cooking.valid"
   ],
   "outputs": [],
   "metadata": {
    "id": "5H1KQkJ3jLka"
   }
  },
  {
   "cell_type": "markdown",
   "source": [
    "## **Train Madel**"
   ],
   "metadata": {
    "id": "P56yP4BLlAR9"
   }
  },
  {
   "cell_type": "code",
   "execution_count": 4,
   "source": [
    "import fasttext"
   ],
   "outputs": [],
   "metadata": {
    "id": "DaOJ2aK0lEb0"
   }
  },
  {
   "cell_type": "code",
   "execution_count": 7,
   "source": [
    "model = fasttext.train_supervised(input=\"cooking.train\")"
   ],
   "outputs": [],
   "metadata": {
    "id": "LXeACDwMlHqB"
   }
  },
  {
   "cell_type": "markdown",
   "source": [
    "## **Define and Save BentoService**"
   ],
   "metadata": {
    "id": "ho0z6HOGmnq9"
   }
  },
  {
   "cell_type": "code",
   "execution_count": 8,
   "source": [
    "# gera o arquivo de implementacao do serviço bentoml\n",
    "%%writefile text_classification.py\n",
    "\n",
    "from bentoml import env, artifacts, BentoService, api\n",
    "from bentoml.frameworks.fasttext import FasttextModelArtifact\n",
    "from bentoml.adapters import JsonInput\n",
    "\n",
    "@env(infer_pip_packages=True)\n",
    "@artifacts([FasttextModelArtifact('model')])\n",
    "class FasttextClassification(BentoService):\n",
    "\n",
    "  @api(input=JsonInput(), batch=True)\n",
    "  def predict (self, json_list):\n",
    "    input = [i['text'] for i in json_list]\n",
    "    result = self.artifacts.model.predict(input)\n",
    "    # return top result\n",
    "    prediction_result = [i[0].replace('__label__','') for i in result[0]]\n",
    "    return prediction_result"
   ],
   "outputs": [
    {
     "output_type": "stream",
     "name": "stdout",
     "text": [
      "Writing text_classification.py\n"
     ]
    }
   ],
   "metadata": {
    "colab": {
     "base_uri": "https://localhost:8080/"
    },
    "id": "hhrk0E2qm2sJ",
    "outputId": "33d73ddb-2a3b-4f5b-d445-91ab2176e6f2"
   }
  },
  {
   "cell_type": "code",
   "execution_count": 10,
   "source": [
    "from text_classification import FasttextClassification\n",
    "\n",
    "svc = FasttextClassification()\n",
    "svc.pack('model', model)\n",
    "\n",
    "saved_path = svc.save()"
   ],
   "outputs": [
    {
     "output_type": "stream",
     "name": "stdout",
     "text": [
      "[2021-04-19 21:10:22,475] INFO - BentoService bundle 'FasttextClassification:20210419211021_3A6C2C' saved to: /Users/roberto/bentoml/repository/FasttextClassification/20210419211021_3A6C2C\n"
     ]
    }
   ],
   "metadata": {
    "colab": {
     "base_uri": "https://localhost:8080/",
     "height": 409
    },
    "id": "CnkqkaVhp_Z5",
    "outputId": "c17af9fa-7915-4315-f0d2-565b9c0eeb2b"
   }
  },
  {
   "cell_type": "code",
   "execution_count": 11,
   "source": [
    "saved_path"
   ],
   "outputs": [
    {
     "output_type": "execute_result",
     "data": {
      "text/plain": [
       "'/Users/roberto/bentoml/repository/FasttextClassification/20210419211021_3A6C2C'"
      ]
     },
     "metadata": {},
     "execution_count": 11
    }
   ],
   "metadata": {
    "colab": {
     "base_uri": "https://localhost:8080/",
     "height": 35
    },
    "id": "CTBBDtUPqlYM",
    "outputId": "da104df1-2036-492c-b4b7-3aaec6799a28"
   }
  },
  {
   "cell_type": "code",
   "execution_count": 41,
   "source": [
    "!ls -l /root/bentoml/repository/"
   ],
   "outputs": [
    {
     "output_type": "stream",
     "name": "stdout",
     "text": [
      "total 4\n",
      "drwxr-xr-x 5 root root 4096 Apr 19 23:36 FasttextClassification\n"
     ]
    }
   ],
   "metadata": {
    "colab": {
     "base_uri": "https://localhost:8080/"
    },
    "id": "Uqz88LZoendt",
    "outputId": "04cd4c5f-b743-4048-b3fe-2fc8cff3e709"
   }
  },
  {
   "cell_type": "markdown",
   "source": [
    "## **REST API Model Serving**"
   ],
   "metadata": {
    "id": "kI7zQE_ZqTaS"
   }
  },
  {
   "cell_type": "code",
   "execution_count": null,
   "source": [
    "!bentoml serve {saved_path}"
   ],
   "outputs": [
    {
     "output_type": "stream",
     "name": "stdout",
     "text": [
      "[2021-04-19 21:11:02,853] INFO - Starting BentoML API proxy in development mode..\n",
      "[2021-04-19 21:11:02,857] INFO - Starting BentoML API server in development mode..\n",
      "Warning : `load_model` does not return WordVectorModel or SupervisedModel any more, but a `FastText` object which is very similar.\n",
      "[2021-04-19 21:11:04,067] INFO - Your system nofile limit is 4096, which means each instance of microbatch service is able to hold this number of connections at same time. You can increase the number of file descriptors for the server process, or launch more microbatch instances to accept more concurrent connection.\n",
      "======== Running on http://0.0.0.0:5000 ========\n",
      "(Press CTRL+C to quit)\n",
      " * Serving Flask app \"FasttextClassification\" (lazy loading)\n",
      " * Environment: production\n",
      "\u001b[31m   WARNING: This is a development server. Do not use it in a production deployment.\u001b[0m\n",
      "\u001b[2m   Use a production WSGI server instead.\u001b[0m\n",
      " * Debug mode: off\n",
      " * Running on http://127.0.0.1:61138/ (Press CTRL+C to quit)\n",
      "127.0.0.1 - - [19/Apr/2021 21:13:02] \"\u001b[37mGET / HTTP/1.1\u001b[0m\" 200 -\n",
      "127.0.0.1 - - [19/Apr/2021 21:13:02] \"\u001b[37mGET /static_content/main.css HTTP/1.1\u001b[0m\" 200 -\n",
      "127.0.0.1 - - [19/Apr/2021 21:13:02] \"\u001b[37mGET /static_content/readme.css HTTP/1.1\u001b[0m\" 200 -\n",
      "127.0.0.1 - - [19/Apr/2021 21:13:02] \"\u001b[37mGET /static_content/swagger-ui.css HTTP/1.1\u001b[0m\" 200 -\n",
      "127.0.0.1 - - [19/Apr/2021 21:13:02] \"\u001b[37mGET /static_content/marked.min.js HTTP/1.1\u001b[0m\" 200 -\n",
      "127.0.0.1 - - [19/Apr/2021 21:13:02] \"\u001b[37mGET /static_content/swagger-ui-bundle.js HTTP/1.1\u001b[0m\" 200 -\n",
      "127.0.0.1 - - [19/Apr/2021 21:13:02] \"\u001b[37mGET /docs.json HTTP/1.1\u001b[0m\" 200 -\n",
      "127.0.0.1 - - [19/Apr/2021 21:13:03] \"\u001b[33mGET /apple-touch-icon-precomposed.png HTTP/1.1\u001b[0m\" 404 -\n",
      "127.0.0.1 - - [19/Apr/2021 21:13:03] \"\u001b[33mGET /favicon.ico HTTP/1.1\u001b[0m\" 404 -\n",
      "127.0.0.1 - - [19/Apr/2021 21:13:03] \"\u001b[33mGET /apple-touch-icon.png HTTP/1.1\u001b[0m\" 404 -\n",
      "[2021-04-19 21:13:39,207] INFO - {'service_name': 'FasttextClassification', 'service_version': '20210419211021_3A6C2C', 'api': 'predict', 'task': {'data': '{\"text\": \"Which baking dish is best to bake a banana bread ?\"}', 'task_id': 'f2e6483c-0526-4ed3-9908-852239eb5fd4', 'http_headers': (('Host', 'localhost:5000'), ('User-Agent', 'curl/7.71.0'), ('Accept', '*/*'), ('Content-Type', 'application/json'), ('Content-Length', '62'), ('Accept-Encoding', 'gzip, deflate'))}, 'result': {'data': '\"baking\"', 'http_status': 200, 'http_headers': (('Content-Type', 'application/json'),)}, 'request_id': 'f2e6483c-0526-4ed3-9908-852239eb5fd4'}\n",
      "127.0.0.1 - - [19/Apr/2021 21:13:39] \"\u001b[37mPOST /predict HTTP/1.1\u001b[0m\" 200 -\n",
      "[2021-04-19 21:15:59,473] INFO - {'service_name': 'FasttextClassification', 'service_version': '20210419211021_3A6C2C', 'api': 'predict', 'task': {'data': '{\"text\": \"Which vegetable is best to bake a banana bread ?\"}', 'task_id': '89deddcd-0bf8-43f6-833e-ed9bcc285cd1', 'http_headers': (('Host', 'localhost:5000'), ('User-Agent', 'curl/7.71.0'), ('Accept', '*/*'), ('Content-Type', 'application/json'), ('Content-Length', '60'), ('Accept-Encoding', 'gzip, deflate'))}, 'result': {'data': '\"baking\"', 'http_status': 200, 'http_headers': (('Content-Type', 'application/json'),)}, 'request_id': '89deddcd-0bf8-43f6-833e-ed9bcc285cd1'}\n",
      "127.0.0.1 - - [19/Apr/2021 21:15:59] \"\u001b[37mPOST /predict HTTP/1.1\u001b[0m\" 200 -\n",
      "[2021-04-19 21:17:14,739] INFO - {'service_name': 'FasttextClassification', 'service_version': '20210419211021_3A6C2C', 'api': 'predict', 'task': {'data': '{\"text\": \"Which vegetable is best to diet ?\"}', 'task_id': '954573d5-73ce-4168-9f63-f04528049c65', 'http_headers': (('Host', 'localhost:5000'), ('User-Agent', 'curl/7.71.0'), ('Accept', '*/*'), ('Content-Type', 'application/json'), ('Content-Length', '45'), ('Accept-Encoding', 'gzip, deflate'))}, 'result': {'data': '\"baking\"', 'http_status': 200, 'http_headers': (('Content-Type', 'application/json'),)}, 'request_id': '954573d5-73ce-4168-9f63-f04528049c65'}\n",
      "127.0.0.1 - - [19/Apr/2021 21:17:14] \"\u001b[37mPOST /predict HTTP/1.1\u001b[0m\" 200 -\n",
      "[2021-04-19 21:19:34,776] INFO - {'service_name': 'FasttextClassification', 'service_version': '20210419211021_3A6C2C', 'api': 'predict', 'task': {'data': '{\"text\": \"Which vegetable is best to diet ?\"}', 'task_id': '14796467-8d40-48df-a38c-2a16a62bd7d9', 'http_headers': (('Host', 'localhost:5000'), ('User-Agent', 'curl/7.71.0'), ('Accept', '*/*'), ('Content-Type', 'application/json'), ('Content-Length', '45'), ('Accept-Encoding', 'gzip, deflate'))}, 'result': {'data': '\"baking\"', 'http_status': 200, 'http_headers': (('Content-Type', 'application/json'),)}, 'request_id': '14796467-8d40-48df-a38c-2a16a62bd7d9'}\n",
      "127.0.0.1 - - [19/Apr/2021 21:19:34] \"\u001b[37mPOST /predict HTTP/1.1\u001b[0m\" 200 -\n",
      "[2021-04-19 21:19:36,247] INFO - {'service_name': 'FasttextClassification', 'service_version': '20210419211021_3A6C2C', 'api': 'predict', 'task': {'data': '{\"text\": \"purpose of a bread box ?\"}', 'task_id': '112a1f31-f556-498f-b11e-006e929e203d', 'http_headers': (('Host', 'localhost:5000'), ('User-Agent', 'curl/7.71.0'), ('Accept', '*/*'), ('Content-Type', 'application/json'), ('Content-Length', '36'), ('Accept-Encoding', 'gzip, deflate'))}, 'result': {'data': '\"baking\"', 'http_status': 200, 'http_headers': (('Content-Type', 'application/json'),)}, 'request_id': '112a1f31-f556-498f-b11e-006e929e203d'}\n",
      "127.0.0.1 - - [19/Apr/2021 21:19:36] \"\u001b[37mPOST /predict HTTP/1.1\u001b[0m\" 200 -\n"
     ]
    }
   ],
   "metadata": {
    "colab": {
     "base_uri": "https://localhost:8080/"
    },
    "id": "kxIEmtyXqXhm",
    "outputId": "f678c42c-5542-4c27-9d16-3e7289b729b3"
   }
  },
  {
   "cell_type": "code",
   "execution_count": 21,
   "source": [
    "!bentoml serve FasttextClassification:latest --run-with-ngrok"
   ],
   "outputs": [
    {
     "output_type": "stream",
     "name": "stdout",
     "text": [
      "/usr/local/lib/python3.7/dist-packages/psycopg2/__init__.py:144: UserWarning: The psycopg2 wheel package will be renamed from release 2.8; in order to keep installing from binary please use \"pip install psycopg2-binary\" instead. For details see: <http://initd.org/psycopg/docs/install.html#binary-install-from-pypi>.\n",
      "  \"\"\")\n",
      "[2021-04-19 20:05:57,271] INFO - Getting latest version FasttextClassification:20210419194348_810FF3\n",
      "[2021-04-19 20:05:57,288] INFO - Starting BentoML API proxy in development mode..\n",
      "[2021-04-19 20:05:57,290] INFO - Starting BentoML API server in development mode..\n",
      "[2021-04-19 20:05:57,418] INFO - Your system nofile limit is 1048576, which means each instance of microbatch service is able to hold this number of connections at same time. You can increase the number of file descriptors for the server process, or launch more microbatch instances to accept more concurrent connection.\n",
      "======== Running on http://0.0.0.0:5000 ========\n",
      "(Press CTRL+C to quit)\n",
      "Warning : `load_model` does not return WordVectorModel or SupervisedModel any more, but a `FastText` object which is very similar.\n",
      " * Serving Flask app \"FasttextClassification\" (lazy loading)\n",
      " * Environment: production\n",
      "\u001b[31m   WARNING: This is a development server. Do not use it in a production deployment.\u001b[0m\n",
      "\u001b[2m   Use a production WSGI server instead.\u001b[0m\n",
      " * Debug mode: off\n",
      " * Running on http://127.0.0.1:46287/ (Press CTRL+C to quit)\n",
      "[2021-04-19 20:05:59,298] INFO -  * Running on http://7d7af03dc764.ngrok.io\n",
      "[2021-04-19 20:05:59,298] INFO -  * Traffic stats available on http://127.0.0.1:4040\n",
      "\n",
      "Aborted!\n"
     ]
    }
   ],
   "metadata": {
    "colab": {
     "base_uri": "https://localhost:8080/"
    },
    "id": "38Tav08xqslK",
    "outputId": "4aa4b662-7805-4ef4-c59e-ef0da76d0204"
   }
  },
  {
   "cell_type": "code",
   "execution_count": null,
   "source": [
    "curl -X POST \\\n",
    "  http://localhost:5000/predict \\\n",
    "  -H 'Content-Type: application/json' \\\n",
    "  -d '{\"text\": \"Which baking dish is best to bake a banana bread ?\"}'"
   ],
   "outputs": [],
   "metadata": {
    "colab": {
     "base_uri": "https://localhost:8080/",
     "height": 147
    },
    "id": "PfMEmYOEB2Mt",
    "outputId": "6046f8f7-52d0-44b2-b434-adcbc61cd9f0"
   }
  },
  {
   "cell_type": "code",
   "execution_count": null,
   "source": [
    "curl -X POST \\\n",
    "  http://localhost:5000/predict \\\n",
    "  -H 'Content-Type: application/json' \\\n",
    "  -d '{\"text\": \"purpose of a bread box ?\"}'"
   ],
   "outputs": [],
   "metadata": {}
  },
  {
   "cell_type": "markdown",
   "source": [
    "## **Containerize model server with Docker**"
   ],
   "metadata": {
    "id": "eI9KMz_QByiO"
   }
  },
  {
   "cell_type": "code",
   "execution_count": null,
   "source": [
    "!bentoml containerize FasttextClassification:latest\n",
    "# Ao final do build -> fasttextclassification:20210419211021_3A6C2C "
   ],
   "outputs": [],
   "metadata": {
    "colab": {
     "base_uri": "https://localhost:8080/"
    },
    "id": "8pTErwjaCSkY",
    "outputId": "174235df-0c6e-4196-d36a-c138f4370567"
   }
  },
  {
   "cell_type": "code",
   "execution_count": null,
   "source": [
    "# observar ao final da etapa de coteinerização\n",
    "!docker run --rm -p5000:5000 fasttextclassification:20210419211021_3A6C2C"
   ],
   "outputs": [],
   "metadata": {
    "id": "M7Q5F121C97S"
   }
  },
  {
   "cell_type": "markdown",
   "source": [
    "## **Load Saved BentoService**"
   ],
   "metadata": {
    "id": "QQCurB54EeHa"
   }
  },
  {
   "cell_type": "code",
   "execution_count": 51,
   "source": [
    "from bentoml import load\n",
    "\n",
    "svc = load(saved_path)\n",
    "\n",
    "print(svc.predict([{\"text\":\"which baking dish is the best?\"}]))"
   ],
   "outputs": [
    {
     "output_type": "stream",
     "name": "stdout",
     "text": [
      "[2021-04-19 23:44:33,833] WARNING - Module `text_classification` already loaded, using existing imported module.\n",
      "[2021-04-19 23:44:33,846] WARNING - pip package requirement fasttext already exist\n"
     ]
    },
    {
     "output_type": "stream",
     "name": "stderr",
     "text": [
      "Warning : `load_model` does not return WordVectorModel or SupervisedModel any more, but a `FastText` object which is very similar.\n"
     ]
    },
    {
     "output_type": "error",
     "ename": "NameError",
     "evalue": "ignored",
     "traceback": [
      "\u001b[0;31m---------------------------------------------------------------------------\u001b[0m",
      "\u001b[0;31mNameError\u001b[0m                                 Traceback (most recent call last)",
      "\u001b[0;32m<ipython-input-51-ab92dcaa0eca>\u001b[0m in \u001b[0;36m<module>\u001b[0;34m()\u001b[0m\n\u001b[1;32m      3\u001b[0m \u001b[0msvc\u001b[0m \u001b[0;34m=\u001b[0m \u001b[0mload\u001b[0m\u001b[0;34m(\u001b[0m\u001b[0msaved_path\u001b[0m\u001b[0;34m)\u001b[0m\u001b[0;34m\u001b[0m\u001b[0;34m\u001b[0m\u001b[0m\n\u001b[1;32m      4\u001b[0m \u001b[0;34m\u001b[0m\u001b[0m\n\u001b[0;32m----> 5\u001b[0;31m \u001b[0mprint\u001b[0m\u001b[0;34m(\u001b[0m\u001b[0msvc\u001b[0m\u001b[0;34m.\u001b[0m\u001b[0mpredict\u001b[0m\u001b[0;34m(\u001b[0m\u001b[0;34m[\u001b[0m\u001b[0;34m{\u001b[0m\u001b[0;34m\"text\"\u001b[0m\u001b[0;34m:\u001b[0m\u001b[0;34m\"which baking dish is the best?\"\u001b[0m\u001b[0;34m}\u001b[0m\u001b[0;34m]\u001b[0m\u001b[0;34m)\u001b[0m\u001b[0;34m)\u001b[0m\u001b[0;34m\u001b[0m\u001b[0;34m\u001b[0m\u001b[0m\n\u001b[0m",
      "\u001b[0;32m/content/text_classification.py\u001b[0m in \u001b[0;36mpredict\u001b[0;34m(self, json_list)\u001b[0m\n\u001b[1;32m     11\u001b[0m   \u001b[0;32mdef\u001b[0m \u001b[0mpredict\u001b[0m \u001b[0;34m(\u001b[0m\u001b[0mself\u001b[0m\u001b[0;34m,\u001b[0m \u001b[0mjson_list\u001b[0m\u001b[0;34m)\u001b[0m\u001b[0;34m:\u001b[0m\u001b[0;34m\u001b[0m\u001b[0;34m\u001b[0m\u001b[0m\n\u001b[1;32m     12\u001b[0m     \u001b[0minput\u001b[0m \u001b[0;34m=\u001b[0m \u001b[0;34m[\u001b[0m\u001b[0mi\u001b[0m\u001b[0;34m[\u001b[0m\u001b[0;34m'text'\u001b[0m\u001b[0;34m]\u001b[0m \u001b[0;32mfor\u001b[0m \u001b[0mi\u001b[0m \u001b[0;32min\u001b[0m \u001b[0mjson_list\u001b[0m\u001b[0;34m]\u001b[0m\u001b[0;34m\u001b[0m\u001b[0;34m\u001b[0m\u001b[0m\n\u001b[0;32m---> 13\u001b[0;31m     \u001b[0mresult\u001b[0m \u001b[0;34m=\u001b[0m \u001b[0mself\u001b[0m\u001b[0;34m.\u001b[0m\u001b[0martifacts\u001b[0m\u001b[0;34m.\u001b[0m\u001b[0mmodel\u001b[0m\u001b[0;34m.\u001b[0m\u001b[0mpredict\u001b[0m\u001b[0;34m(\u001b[0m\u001b[0minput\u001b[0m\u001b[0;34m)\u001b[0m\u001b[0;34m\u001b[0m\u001b[0;34m\u001b[0m\u001b[0m\n\u001b[0m\u001b[1;32m     14\u001b[0m     \u001b[0;31m# return top result\u001b[0m\u001b[0;34m\u001b[0m\u001b[0;34m\u001b[0m\u001b[0;34m\u001b[0m\u001b[0m\n\u001b[1;32m     15\u001b[0m     \u001b[0mprediction_result\u001b[0m \u001b[0;34m=\u001b[0m \u001b[0;34m[\u001b[0m\u001b[0mi\u001b[0m\u001b[0;34m[\u001b[0m\u001b[0;36m0\u001b[0m\u001b[0;34m]\u001b[0m\u001b[0;34m.\u001b[0m\u001b[0mreplace\u001b[0m\u001b[0;34m(\u001b[0m\u001b[0;34m'__label__'\u001b[0m\u001b[0;34m,\u001b[0m\u001b[0;34m''\u001b[0m\u001b[0;34m)\u001b[0m \u001b[0;32mfor\u001b[0m \u001b[0mi\u001b[0m \u001b[0;32min\u001b[0m \u001b[0mresult\u001b[0m\u001b[0;34m[\u001b[0m\u001b[0;36m0\u001b[0m\u001b[0;34m]\u001b[0m\u001b[0;34m]\u001b[0m\u001b[0;34m\u001b[0m\u001b[0;34m\u001b[0m\u001b[0m\n",
      "\u001b[0;31mNameError\u001b[0m: name 'predict' is not defined"
     ]
    }
   ],
   "metadata": {
    "colab": {
     "base_uri": "https://localhost:8080/",
     "height": 368
    },
    "id": "jr3TRNXwEmdl",
    "outputId": "a64e6e40-a950-4c1b-d868-73e77b3068b1"
   }
  },
  {
   "cell_type": "markdown",
   "source": [
    "##Launch Inference Job from CLI"
   ],
   "metadata": {
    "id": "Nt7fTt48FHKI"
   }
  },
  {
   "cell_type": "code",
   "execution_count": 52,
   "source": [
    "!bentoml run FasttextClassification:latest predict --input '{\"text\":\"Which baking dish is best to bake a banana bread ?\"}'"
   ],
   "outputs": [
    {
     "output_type": "stream",
     "name": "stdout",
     "text": [
      "/usr/local/lib/python3.7/dist-packages/psycopg2/__init__.py:144: UserWarning: The psycopg2 wheel package will be renamed from release 2.8; in order to keep installing from binary please use \"pip install psycopg2-binary\" instead. For details see: <http://initd.org/psycopg/docs/install.html#binary-install-from-pypi>.\n",
      "  \"\"\")\n",
      "[2021-04-19 23:45:04,808] INFO - Getting latest version FasttextClassification:20210419233630_E6A85A\n",
      "Warning : `load_model` does not return WordVectorModel or SupervisedModel any more, but a `FastText` object which is very similar.\n",
      "2021-04-19 23:45:06.428968: I tensorflow/stream_executor/platform/default/dso_loader.cc:49] Successfully opened dynamic library libcudart.so.11.0\n",
      "[2021-04-19 23:45:07,739] INFO - {'service_name': 'FasttextClassification', 'service_version': '20210419233630_E6A85A', 'api': 'predict', 'task': {'data': '{\"text\":\"Which baking dish is best to bake a banana bread ?\"}', 'task_id': '9b9b535a-fd36-4123-8504-f451dd416ec6', 'cli_args': ('--input', '{\"text\":\"Which baking dish is best to bake a banana bread ?\"}'), 'inference_job_args': {}}, 'result': {'data': '\"baking\"', 'http_status': 200, 'http_headers': (('Content-Type', 'application/json'),)}, 'request_id': '9b9b535a-fd36-4123-8504-f451dd416ec6'}\n",
      "\"baking\"\n"
     ]
    }
   ],
   "metadata": {
    "colab": {
     "base_uri": "https://localhost:8080/"
    },
    "id": "6nlXrOeRFN82",
    "outputId": "a7258d24-8299-4e1b-de38-f09957ca9b7e"
   }
  }
 ],
 "metadata": {
  "colab": {
   "collapsed_sections": [
    "1E-hivGHe_PA"
   ],
   "name": "bentoml-fasttext.ipynb",
   "provenance": []
  },
  "kernelspec": {
   "display_name": "Python 3",
   "language": "python",
   "name": "python3"
  },
  "language_info": {
   "codemirror_mode": {
    "name": "ipython",
    "version": 3
   },
   "file_extension": ".py",
   "mimetype": "text/x-python",
   "name": "python",
   "nbconvert_exporter": "python",
   "pygments_lexer": "ipython3",
   "version": "3.7.7"
  }
 },
 "nbformat": 4,
 "nbformat_minor": 1
}